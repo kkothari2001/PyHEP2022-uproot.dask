{
 "cells": [
  {
   "cell_type": "markdown",
   "id": "25591857",
   "metadata": {},
   "source": [
    "![uproot logo](https://github.com/scikit-hep/uproot5/raw/main/docs-img/logo/logo-300px.png)"
   ]
  },
  {
   "cell_type": "markdown",
   "id": "bb1fd59c",
   "metadata": {},
   "source": [
    "## Uproot + Dask: Lightning Talk\n",
    "\n",
    "Authors: Kush Kothari \\<kushkothari2001@gmail.com\\> (Speaker), Dr Jim Pivarski \\<pivarski@princeton.edu\\>\n",
    "\n",
    "In this short talk we introduce an important new feature in Uproot v5 (Target Release: Dec 2022), the `uproot.dask` function. This provides an excellent starting point in creating Dask workflows for HEP computations."
   ]
  },
  {
   "cell_type": "code",
   "execution_count": 1,
   "id": "e7f7de28",
   "metadata": {},
   "outputs": [],
   "source": [
    "import numpy as np\n",
    "from pprint import pprint as prettyprint\n",
    "\n",
    "import uproot"
   ]
  },
  {
   "cell_type": "markdown",
   "id": "031b1117",
   "metadata": {},
   "source": [
    "Loading up some test data"
   ]
  },
  {
   "cell_type": "code",
   "execution_count": 2,
   "id": "ff4b2b45",
   "metadata": {},
   "outputs": [],
   "source": [
    "import skhep_testdata\n",
    "\n",
    "root_zmumu = skhep_testdata.data_path('uproot-Zmumu.root') + \":events\"\n",
    "root_hzz = skhep_testdata.data_path('uproot-HZZ.root') + \":events\""
   ]
  },
  {
   "cell_type": "markdown",
   "id": "bed0f896",
   "metadata": {},
   "source": [
    "### Eager workflows in Uproot"
   ]
  },
  {
   "cell_type": "code",
   "execution_count": 3,
   "id": "619f0952",
   "metadata": {},
   "outputs": [
    {
     "name": "stdout",
     "output_type": "stream",
     "text": [
      "Ttree: <TTree 'events' (20 branches) at 0x7f8f30058cd0>\n",
      "\n",
      "pt: <Array [44.7, 38.8, 38.8, 37.8, ..., 32.4, 32.4, 32.5] type='2304 * float64'>\n"
     ]
    }
   ],
   "source": [
    "ttree = uproot.open(root_zmumu)\n",
    "print(f\"Ttree: {ttree}\\n\")\n",
    "\n",
    "ak_arr = ttree.arrays() # This is when the TBranch data is read into memory\n",
    "px = ak_arr['px1']\n",
    "py = ak_arr['py1']\n",
    "pt = np.sqrt(px**2 + py**2)\n",
    "print(f\"pt: {repr(pt)}\")"
   ]
  },
  {
   "cell_type": "markdown",
   "id": "87221be1",
   "metadata": {},
   "source": [
    "### Deprecating `uproot.lazy` in favour of Dask\n",
    "\n",
    "Dask Collections provide many advantages, many of which were demonstrated in the [Dask tutorial by Doug Davis](https://indico.cern.ch/event/1150631/timetable/#37-dask-tutorial) just before this one.\n",
    "\n",
    "The new function `uproot.dask` provides easy-to-use Dask workflows to delay and parallelize the file-reading functionality in Uproot."
   ]
  },
  {
   "cell_type": "code",
   "execution_count": 4,
   "id": "f09f86f6",
   "metadata": {},
   "outputs": [],
   "source": [
    "import dask"
   ]
  },
  {
   "cell_type": "code",
   "execution_count": 5,
   "id": "6f5bb5e2",
   "metadata": {},
   "outputs": [
    {
     "name": "stdout",
     "output_type": "stream",
     "text": [
      "Output 1: <Array [-41.2, 35.1, 35.1, 34.1, ..., 32.4, 32.4, 32.5] type='2304 * float64'>\n",
      "\n",
      "Output 2: <Array [-41.2, 35.1, 35.1, 34.1, ..., 32.4, 32.4, 32.5] type='2304 * float64'>\n",
      "\n"
     ]
    }
   ],
   "source": [
    "## DON'T DO THIS\n",
    "ttree = uproot.open(root_zmumu)\n",
    "delayed_arr = dask.delayed(ttree['px1'].array)()\n",
    "materialized_arr = delayed_arr.compute()\n",
    "print(f\"Output 1: {repr(materialized_arr)}\\n\")\n",
    "\n",
    "## DO THIS INSTEAD\n",
    "delayed_arr = uproot.dask(root_zmumu)['px1']\n",
    "materialized_arr = delayed_arr.compute()\n",
    "print(f\"Output 2: {repr(materialized_arr)}\\n\")"
   ]
  },
  {
   "cell_type": "markdown",
   "id": "8905829c",
   "metadata": {},
   "source": [
    "Not only does `uproot.dask` make it more convenient to get Dask Collections from ROOT files, it actually does it better! Additionally we get use existing functionality from Uproot and Dask, like branch filters and chunking."
   ]
  },
  {
   "cell_type": "markdown",
   "id": "2e65b95b",
   "metadata": {},
   "source": [
    "### So what does uproot.dask return?\n",
    "Following Uproot conventions, `uproot.dask` takes in a `library=` argument that can currently be set to `'np'` or `'ak'`.\n",
    "\n",
    "With `library='np'`, `uproot.dask` returns a Python dict of Dask Arrays"
   ]
  },
  {
   "cell_type": "code",
   "execution_count": 6,
   "id": "8c726eee",
   "metadata": {},
   "outputs": [
    {
     "name": "stdout",
     "output_type": "stream",
     "text": [
      "{'E1': dask.array<E1-from-uproot, shape=(2304,), dtype=float64, chunksize=(2304,), chunktype=numpy.ndarray>,\n",
      " 'E2': dask.array<E2-from-uproot, shape=(2304,), dtype=float64, chunksize=(2304,), chunktype=numpy.ndarray>,\n",
      " 'Event': dask.array<Event-from-uproot, shape=(2304,), dtype=int32, chunksize=(2304,), chunktype=numpy.ndarray>,\n",
      " 'M': dask.array<M-from-uproot, shape=(2304,), dtype=float64, chunksize=(2304,), chunktype=numpy.ndarray>,\n",
      " 'Q1': dask.array<Q1-from-uproot, shape=(2304,), dtype=int32, chunksize=(2304,), chunktype=numpy.ndarray>,\n",
      " 'Q2': dask.array<Q2-from-uproot, shape=(2304,), dtype=int32, chunksize=(2304,), chunktype=numpy.ndarray>,\n",
      " 'Run': dask.array<Run-from-uproot, shape=(2304,), dtype=int32, chunksize=(2304,), chunktype=numpy.ndarray>,\n",
      " 'Type': dask.array<Type-from-uproot, shape=(2304,), dtype=object, chunksize=(2304,), chunktype=numpy.ndarray>,\n",
      " 'eta1': dask.array<eta1-from-uproot, shape=(2304,), dtype=float64, chunksize=(2304,), chunktype=numpy.ndarray>,\n",
      " 'eta2': dask.array<eta2-from-uproot, shape=(2304,), dtype=float64, chunksize=(2304,), chunktype=numpy.ndarray>,\n",
      " 'phi1': dask.array<phi1-from-uproot, shape=(2304,), dtype=float64, chunksize=(2304,), chunktype=numpy.ndarray>,\n",
      " 'phi2': dask.array<phi2-from-uproot, shape=(2304,), dtype=float64, chunksize=(2304,), chunktype=numpy.ndarray>,\n",
      " 'pt1': dask.array<pt1-from-uproot, shape=(2304,), dtype=float64, chunksize=(2304,), chunktype=numpy.ndarray>,\n",
      " 'pt2': dask.array<pt2-from-uproot, shape=(2304,), dtype=float64, chunksize=(2304,), chunktype=numpy.ndarray>,\n",
      " 'px1': dask.array<px1-from-uproot, shape=(2304,), dtype=float64, chunksize=(2304,), chunktype=numpy.ndarray>,\n",
      " 'px2': dask.array<px2-from-uproot, shape=(2304,), dtype=float64, chunksize=(2304,), chunktype=numpy.ndarray>,\n",
      " 'py1': dask.array<py1-from-uproot, shape=(2304,), dtype=float64, chunksize=(2304,), chunktype=numpy.ndarray>,\n",
      " 'py2': dask.array<py2-from-uproot, shape=(2304,), dtype=float64, chunksize=(2304,), chunktype=numpy.ndarray>,\n",
      " 'pz1': dask.array<pz1-from-uproot, shape=(2304,), dtype=float64, chunksize=(2304,), chunktype=numpy.ndarray>,\n",
      " 'pz2': dask.array<pz2-from-uproot, shape=(2304,), dtype=float64, chunksize=(2304,), chunktype=numpy.ndarray>}\n"
     ]
    }
   ],
   "source": [
    "dask_array_dict = uproot.dask(root_zmumu, library='np')\n",
    "prettyprint(dask_array_dict)"
   ]
  },
  {
   "cell_type": "markdown",
   "id": "52da801b",
   "metadata": {},
   "source": [
    "With `library='ak'` (the default value), it returns a `dask-awkward` collection, a brand-new dask collection. Just like with Dask arrays, calling `compute()` on a Dask-Awkward array will execute the corresponding dask-graph resulting in a materialized Awkward Array"
   ]
  },
  {
   "cell_type": "code",
   "execution_count": 7,
   "id": "1eb2d418",
   "metadata": {},
   "outputs": [
    {
     "name": "stdout",
     "output_type": "stream",
     "text": [
      "Dask-Awkward Array:\n",
      "dask.awkward<from-uproot, npartitions=1>\n",
      "\n",
      "Dask-Awkward Array Type:\n",
      "<class 'dask_awkward.core.Array'>\n",
      "\n",
      "Materialized Awkward Array:\n",
      "<Array [{Type: 'GT', Run: 148031, ...}, ...] type='2304 * {Type: string, Ru...'>\n",
      "\n"
     ]
    }
   ],
   "source": [
    "dak_array = uproot.dask(root_zmumu)\n",
    "print(f\"Dask-Awkward Array:\\n{dak_array}\\n\")\n",
    "print(f\"Dask-Awkward Array Type:\\n{type(dak_array)}\\n\")\n",
    "print(f\"Materialized Awkward Array:\\n{repr(dak_array.compute())}\\n\")"
   ]
  },
  {
   "cell_type": "markdown",
   "id": "caa65b3e",
   "metadata": {},
   "source": [
    "Obviously, Dask-Awkward supports jagged arrays and computations on these, just like Awkward.\n",
    "\n",
    "To find out more about this project, check out: https://github.com/ContinuumIO/dask-awkward"
   ]
  },
  {
   "cell_type": "code",
   "execution_count": 8,
   "id": "54543765",
   "metadata": {},
   "outputs": [
    {
     "data": {
      "text/plain": [
       "<Array [[], [-38.9], [], ..., [-36.4, -15.3], []] type='2421 * var * float32'>"
      ]
     },
     "execution_count": 8,
     "metadata": {},
     "output_type": "execute_result"
    }
   ],
   "source": [
    "uproot.dask(root_hzz)['Jet_Px'].compute()"
   ]
  },
  {
   "cell_type": "markdown",
   "id": "29eba664",
   "metadata": {},
   "source": [
    "When multiple TTrees are provided, `uproot.dask` also concatenates the common TBranches"
   ]
  },
  {
   "cell_type": "code",
   "execution_count": 9,
   "id": "f4448bd1",
   "metadata": {},
   "outputs": [
    {
     "name": "stdout",
     "output_type": "stream",
     "text": [
      "dask.array<px1-from-uproot, shape=(2304,), dtype=float64, chunksize=(2304,), chunktype=numpy.ndarray>\n",
      "dask.array<px1-from-uproot, shape=(4608,), dtype=float64, chunksize=(2304,), chunktype=numpy.ndarray>\n"
     ]
    }
   ],
   "source": [
    "root_zmumu2 = skhep_testdata.data_path('uproot-Zmumu-zlib.root') + \":events\"\n",
    "# Let's think of this as another ROOT file with the same branches\n",
    "\n",
    "print(uproot.dask(root_zmumu, library='np')['px1'])\n",
    "print(uproot.dask([root_zmumu,root_zmumu2], library='np')['px1'])"
   ]
  },
  {
   "cell_type": "markdown",
   "id": "45f07e51",
   "metadata": {},
   "source": [
    "### Chunking\n",
    "As Doug explained, Dask collections can be looked at in terms of chunks. These act like smaller blocks of memory that can be loaded into computer memory at a time.\n",
    "\n",
    "`uproot.dask` provides a `step_size` argument to provide control over this behaviour."
   ]
  },
  {
   "cell_type": "code",
   "execution_count": null,
   "id": "e7fc883a",
   "metadata": {},
   "outputs": [],
   "source": [
    "print(uproot.dask(root_zmumu, library='np')['px1'])\n",
    "print(uproot.dask(root_zmumu, library='np', step_size=10)['px1'])\n",
    "print(uproot.dask(root_zmumu, library='np', step_size=\"10KB\")['px1'])\n",
    "\n",
    "print()\n",
    "\n",
    "print(uproot.dask(root_zmumu)['px1'])\n",
    "print(uproot.dask(root_zmumu, step_size=10)['px1'])\n",
    "print(uproot.dask(root_zmumu, step_size=\"10KB\")['px1'])"
   ]
  },
  {
   "cell_type": "markdown",
   "id": "bde1dac2",
   "metadata": {},
   "source": [
    "### Opening files\n",
    "Normally, `uproot.dask` just opens the file to read and understand metadata (e.g. `fEntries`). No TBranch data is read until `compute()` is called on the collection.\n",
    "\n",
    "However, if you wish to even skip the overhead of opening files till the `compute()` call, you may do so with `open_files=False`. When a list of files is provided with `open_files=False`, `uproot.dask` just opens the first file to get TBranch type metadata, and assumes the same set of TBranches for all the other files. The actual opening of the files is just delayed like a Dask task."
   ]
  },
  {
   "cell_type": "code",
   "execution_count": null,
   "id": "51087357",
   "metadata": {},
   "outputs": [],
   "source": [
    "## Nothing really I can show for this, but except that the final arrays are the same! :)\n",
    "\n",
    "print(uproot.dask([root_zmumu,root_zmumu2])['px1'].compute())\n",
    "print(uproot.dask([root_zmumu,root_zmumu2],open_files=False)['px1'].compute())"
   ]
  },
  {
   "cell_type": "markdown",
   "id": "7bf59540",
   "metadata": {},
   "source": [
    "## Delayed workflow using Dask"
   ]
  },
  {
   "cell_type": "code",
   "execution_count": null,
   "id": "cc98cff2",
   "metadata": {},
   "outputs": [],
   "source": [
    "dask_arr_dict = uproot.dask(root_zmumu, library='np', step_size=1000)\n",
    "\n",
    "px = dask_arr_dict['px1']\n",
    "py = dask_arr_dict['py1']\n",
    "pz = dask_arr_dict['pz1']\n",
    "pt = np.sqrt(px**2 + py**2)\n",
    "phi = np.arctan2(py, px)\n",
    "eta = np.arcsinh(pz / pt)"
   ]
  },
  {
   "cell_type": "code",
   "execution_count": null,
   "id": "55548d1e",
   "metadata": {},
   "outputs": [],
   "source": [
    "pt.visualize()"
   ]
  },
  {
   "cell_type": "code",
   "execution_count": null,
   "id": "e91455f7",
   "metadata": {},
   "outputs": [],
   "source": [
    "eta.visualize()"
   ]
  },
  {
   "cell_type": "code",
   "execution_count": null,
   "id": "2af689ff",
   "metadata": {},
   "outputs": [],
   "source": [
    "phi.visualize()"
   ]
  },
  {
   "cell_type": "code",
   "execution_count": null,
   "id": "6f127c8a",
   "metadata": {},
   "outputs": [],
   "source": [
    "phi.compute()"
   ]
  }
 ],
 "metadata": {
  "kernelspec": {
   "display_name": "Python 3 (ipykernel)",
   "language": "python",
   "name": "python3"
  },
  "language_info": {
   "codemirror_mode": {
    "name": "ipython",
    "version": 3
   },
   "file_extension": ".py",
   "mimetype": "text/x-python",
   "name": "python",
   "nbconvert_exporter": "python",
   "pygments_lexer": "ipython3",
   "version": "3.8.10"
  }
 },
 "nbformat": 4,
 "nbformat_minor": 5
}
