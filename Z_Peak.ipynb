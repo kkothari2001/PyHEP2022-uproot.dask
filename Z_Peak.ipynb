{
 "cells": [
  {
   "cell_type": "markdown",
   "id": "371459b8",
   "metadata": {},
   "source": [
    "### Well, let's work on some real data now!"
   ]
  },
  {
   "cell_type": "code",
   "execution_count": null,
   "id": "2e47dfa8",
   "metadata": {},
   "outputs": [],
   "source": [
    "import uproot\n",
    "import numpy as np\n",
    "\n",
    "import dask\n",
    "import dask.array as da\n",
    "import dask_awkward as dak\n",
    "\n",
    "import matplotlib.pyplot as plt\n",
    "import time"
   ]
  },
  {
   "cell_type": "markdown",
   "id": "1e2ca567",
   "metadata": {},
   "source": [
    "[DoubleMuParked dataset](https://opendata.cern.ch/record/12341#) from 2012 in NanoAOD format reduced on muons.\n",
    "\n",
    "61,540,413 events"
   ]
  },
  {
   "cell_type": "code",
   "execution_count": null,
   "id": "7c2309b4",
   "metadata": {},
   "outputs": [],
   "source": [
    "real_data = \"./data/Run2012BC_DoubleMuParked_Muons.root\" + \":Events\""
   ]
  },
  {
   "cell_type": "markdown",
   "id": "e5423320",
   "metadata": {},
   "source": [
    "### Setting up the extremely small cluster, so we can see some diagnostics\n",
    "This is completely optional! I'm doing it for the dask diagnostic tools, but you might skip it if you just want to run stuff on your local computer! But it's important to note that these Dask workflows are scalable from single-machines to entire clusters."
   ]
  },
  {
   "cell_type": "code",
   "execution_count": null,
   "id": "bdbd34bd",
   "metadata": {},
   "outputs": [],
   "source": [
    "from dask.distributed import Client, LocalCluster\n",
    "\n",
    "cluster = LocalCluster(processes=False,threads_per_worker=8)\n",
    "client = Client(cluster)\n",
    "client"
   ]
  },
  {
   "cell_type": "markdown",
   "id": "ad7cbd33",
   "metadata": {},
   "source": [
    "### Making the actual dask task-graph"
   ]
  },
  {
   "cell_type": "code",
   "execution_count": null,
   "id": "7a14feae",
   "metadata": {},
   "outputs": [],
   "source": [
    "test_path = uproot.dask(real_data)\n",
    "pt = test_path['Muon_pt']\n",
    "phi = test_path['Muon_phi']\n",
    "eta = test_path['Muon_eta']\n",
    "muons = dak.zip({\"pt\":pt,\"eta\":eta,\"phi\":phi})\n",
    "selected_muons = muons[dak.num(muons)>=2]\n",
    "pt1 = selected_muons[:,0].pt\n",
    "pt2 = selected_muons[:,1].pt\n",
    "eta1 = selected_muons[:,0].eta\n",
    "eta2 = selected_muons[:,1].eta\n",
    "phi1 = selected_muons[:,0].phi\n",
    "phi2 = selected_muons[:,1].phi\n",
    "\n",
    "mass = np.sqrt(pt1*pt2*(np.cosh(eta1-eta2)-np.cos(phi1-phi2))*2)\n",
    "h, bins = da.histogram(mass,bins=200,range=[0,200])"
   ]
  },
  {
   "cell_type": "markdown",
   "id": "94bbf2e8",
   "metadata": {},
   "source": [
    "### Visualizing the dask graph"
   ]
  },
  {
   "cell_type": "code",
   "execution_count": null,
   "id": "16ea62f0",
   "metadata": {},
   "outputs": [],
   "source": [
    "h.visualize('graphs/real-data-graph-optimized.png',optimize_graph=True)\n",
    "h.visualize('graphs/real-data-graph.png')"
   ]
  },
  {
   "cell_type": "markdown",
   "id": "54ee017d",
   "metadata": {},
   "source": [
    "### The actual computation"
   ]
  },
  {
   "cell_type": "code",
   "execution_count": null,
   "id": "81b54e28",
   "metadata": {},
   "outputs": [],
   "source": [
    "start = time.time()\n",
    "\n",
    "# No data has been read until this point\n",
    "hist_arr = h.compute()\n",
    "\n",
    "end = time.time()\n",
    "print(end-start)"
   ]
  },
  {
   "cell_type": "markdown",
   "id": "3b91584e",
   "metadata": {},
   "source": [
    "### And the Z-peak!"
   ]
  },
  {
   "cell_type": "code",
   "execution_count": null,
   "id": "0f794f9a",
   "metadata": {},
   "outputs": [],
   "source": [
    "plt.plot(hist_arr)"
   ]
  }
 ],
 "metadata": {
  "kernelspec": {
   "display_name": "Python 3 (ipykernel)",
   "language": "python",
   "name": "python3"
  },
  "language_info": {
   "codemirror_mode": {
    "name": "ipython",
    "version": 3
   },
   "file_extension": ".py",
   "mimetype": "text/x-python",
   "name": "python",
   "nbconvert_exporter": "python",
   "pygments_lexer": "ipython3",
   "version": "3.8.10"
  }
 },
 "nbformat": 4,
 "nbformat_minor": 5
}
